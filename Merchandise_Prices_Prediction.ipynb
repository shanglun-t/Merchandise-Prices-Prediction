{
 "cells": [
  {
   "cell_type": "markdown",
   "metadata": {},
   "source": [
    "## Merchandise Prices Prediction"
   ]
  },
  {
   "cell_type": "markdown",
   "metadata": {},
   "source": [
    "Object: To build an algorithm that automatically suggests the right product prices. <br>\n",
    "The datasets contains 29,999 kinds of products, each with 7 features of one kind of products.\n",
    "\n",
    "Features:\n",
    "    - ID\n",
    "    - Name\n",
    "    - Item Condition\n",
    "    - Category\n",
    "    - Brand Name \n",
    "    - Price \n",
    "    - Shipping"
   ]
  },
  {
   "cell_type": "code",
   "execution_count": null,
   "metadata": {},
   "outputs": [],
   "source": [
    "Outlines:\n",
    "    - Exploring data\n",
    "    - Impelement LightGMB and Ridge regression model, take result based on 40/60 from both models respectively \n",
    "    - Feature extraction:\n",
    "        - "
   ]
  },
  {
   "cell_type": "code",
   "execution_count": 1,
   "metadata": {},
   "outputs": [],
   "source": [
    "import pandas as pd"
   ]
  },
  {
   "cell_type": "code",
   "execution_count": 2,
   "metadata": {},
   "outputs": [],
   "source": [
    "train = pd.read_csv('../M_Project/train.tsv',delimiter='\\t',encoding='utf-8')\n",
    "test = pd.read_csv('../M_Project/test.tsv',delimiter='\\t',encoding='utf-8')\n"
   ]
  },
  {
   "cell_type": "code",
   "execution_count": 3,
   "metadata": {},
   "outputs": [
    {
     "data": {
      "text/plain": [
       "train_id               int64\n",
       "name                  object\n",
       "item_condition_id      int64\n",
       "category_name         object\n",
       "brand_name            object\n",
       "price                float64\n",
       "shipping               int64\n",
       "item_description      object\n",
       "dtype: object"
      ]
     },
     "execution_count": 3,
     "metadata": {},
     "output_type": "execute_result"
    }
   ],
   "source": [
    "train.dtypes"
   ]
  },
  {
   "cell_type": "raw",
   "metadata": {},
   "source": []
  },
  {
   "cell_type": "markdown",
   "metadata": {},
   "source": [
    "### Exploring Data sets"
   ]
  },
  {
   "cell_type": "code",
   "execution_count": 4,
   "metadata": {},
   "outputs": [
    {
     "data": {
      "text/html": [
       "<div>\n",
       "<style scoped>\n",
       "    .dataframe tbody tr th:only-of-type {\n",
       "        vertical-align: middle;\n",
       "    }\n",
       "\n",
       "    .dataframe tbody tr th {\n",
       "        vertical-align: top;\n",
       "    }\n",
       "\n",
       "    .dataframe thead th {\n",
       "        text-align: right;\n",
       "    }\n",
       "</style>\n",
       "<table border=\"1\" class=\"dataframe\">\n",
       "  <thead>\n",
       "    <tr style=\"text-align: right;\">\n",
       "      <th></th>\n",
       "      <th>train_id</th>\n",
       "      <th>name</th>\n",
       "      <th>item_condition_id</th>\n",
       "      <th>category_name</th>\n",
       "      <th>brand_name</th>\n",
       "      <th>price</th>\n",
       "      <th>shipping</th>\n",
       "      <th>item_description</th>\n",
       "    </tr>\n",
       "  </thead>\n",
       "  <tbody>\n",
       "    <tr>\n",
       "      <th>0</th>\n",
       "      <td>0</td>\n",
       "      <td>MLB Cincinnati Reds T Shirt Size XL</td>\n",
       "      <td>3</td>\n",
       "      <td>Men/Tops/T-shirts</td>\n",
       "      <td>NaN</td>\n",
       "      <td>10.0</td>\n",
       "      <td>1</td>\n",
       "      <td>No description yet</td>\n",
       "    </tr>\n",
       "    <tr>\n",
       "      <th>1</th>\n",
       "      <td>1</td>\n",
       "      <td>Razer BlackWidow Chroma Keyboard</td>\n",
       "      <td>3</td>\n",
       "      <td>Electronics/Computers &amp; Tablets/Components &amp; P...</td>\n",
       "      <td>Razer</td>\n",
       "      <td>52.0</td>\n",
       "      <td>0</td>\n",
       "      <td>This keyboard is in great condition and works ...</td>\n",
       "    </tr>\n",
       "    <tr>\n",
       "      <th>2</th>\n",
       "      <td>2</td>\n",
       "      <td>AVA-VIV Blouse</td>\n",
       "      <td>1</td>\n",
       "      <td>Women/Tops &amp; Blouses/Blouse</td>\n",
       "      <td>Target</td>\n",
       "      <td>10.0</td>\n",
       "      <td>1</td>\n",
       "      <td>Adorable top with a hint of lace and a key hol...</td>\n",
       "    </tr>\n",
       "    <tr>\n",
       "      <th>3</th>\n",
       "      <td>3</td>\n",
       "      <td>Leather Horse Statues</td>\n",
       "      <td>1</td>\n",
       "      <td>Home/Home Décor/Home Décor Accents</td>\n",
       "      <td>NaN</td>\n",
       "      <td>35.0</td>\n",
       "      <td>1</td>\n",
       "      <td>New with tags. Leather horses. Retail for [rm]...</td>\n",
       "    </tr>\n",
       "    <tr>\n",
       "      <th>4</th>\n",
       "      <td>4</td>\n",
       "      <td>24K GOLD plated rose</td>\n",
       "      <td>1</td>\n",
       "      <td>Women/Jewelry/Necklaces</td>\n",
       "      <td>NaN</td>\n",
       "      <td>44.0</td>\n",
       "      <td>0</td>\n",
       "      <td>Complete with certificate of authenticity</td>\n",
       "    </tr>\n",
       "  </tbody>\n",
       "</table>\n",
       "</div>"
      ],
      "text/plain": [
       "   train_id                                 name  item_condition_id  \\\n",
       "0         0  MLB Cincinnati Reds T Shirt Size XL                  3   \n",
       "1         1     Razer BlackWidow Chroma Keyboard                  3   \n",
       "2         2                       AVA-VIV Blouse                  1   \n",
       "3         3                Leather Horse Statues                  1   \n",
       "4         4                 24K GOLD plated rose                  1   \n",
       "\n",
       "                                       category_name brand_name  price  \\\n",
       "0                                  Men/Tops/T-shirts        NaN   10.0   \n",
       "1  Electronics/Computers & Tablets/Components & P...      Razer   52.0   \n",
       "2                        Women/Tops & Blouses/Blouse     Target   10.0   \n",
       "3                 Home/Home Décor/Home Décor Accents        NaN   35.0   \n",
       "4                            Women/Jewelry/Necklaces        NaN   44.0   \n",
       "\n",
       "   shipping                                   item_description  \n",
       "0         1                                 No description yet  \n",
       "1         0  This keyboard is in great condition and works ...  \n",
       "2         1  Adorable top with a hint of lace and a key hol...  \n",
       "3         1  New with tags. Leather horses. Retail for [rm]...  \n",
       "4         0          Complete with certificate of authenticity  "
      ]
     },
     "execution_count": 4,
     "metadata": {},
     "output_type": "execute_result"
    }
   ],
   "source": [
    "train.head()"
   ]
  },
  {
   "cell_type": "code",
   "execution_count": 5,
   "metadata": {
    "scrolled": true
   },
   "outputs": [
    {
     "data": {
      "text/plain": [
       "(29999, 8)"
      ]
     },
     "execution_count": 5,
     "metadata": {},
     "output_type": "execute_result"
    }
   ],
   "source": [
    "train.shape"
   ]
  },
  {
   "cell_type": "code",
   "execution_count": 6,
   "metadata": {},
   "outputs": [
    {
     "data": {
      "text/plain": [
       "(29999, 7)"
      ]
     },
     "execution_count": 6,
     "metadata": {},
     "output_type": "execute_result"
    }
   ],
   "source": [
    "test.shape"
   ]
  },
  {
   "cell_type": "code",
   "execution_count": 7,
   "metadata": {},
   "outputs": [
    {
     "data": {
      "text/html": [
       "<div>\n",
       "<style scoped>\n",
       "    .dataframe tbody tr th:only-of-type {\n",
       "        vertical-align: middle;\n",
       "    }\n",
       "\n",
       "    .dataframe tbody tr th {\n",
       "        vertical-align: top;\n",
       "    }\n",
       "\n",
       "    .dataframe thead th {\n",
       "        text-align: right;\n",
       "    }\n",
       "</style>\n",
       "<table border=\"1\" class=\"dataframe\">\n",
       "  <thead>\n",
       "    <tr style=\"text-align: right;\">\n",
       "      <th></th>\n",
       "      <th>train_id</th>\n",
       "      <th>item_condition_id</th>\n",
       "      <th>price</th>\n",
       "      <th>shipping</th>\n",
       "    </tr>\n",
       "  </thead>\n",
       "  <tbody>\n",
       "    <tr>\n",
       "      <th>count</th>\n",
       "      <td>29999.000000</td>\n",
       "      <td>29999.000000</td>\n",
       "      <td>29999.000000</td>\n",
       "      <td>29999.000000</td>\n",
       "    </tr>\n",
       "    <tr>\n",
       "      <th>mean</th>\n",
       "      <td>14999.000000</td>\n",
       "      <td>1.906164</td>\n",
       "      <td>26.953582</td>\n",
       "      <td>0.447715</td>\n",
       "    </tr>\n",
       "    <tr>\n",
       "      <th>std</th>\n",
       "      <td>8660.109699</td>\n",
       "      <td>0.906798</td>\n",
       "      <td>40.394998</td>\n",
       "      <td>0.497267</td>\n",
       "    </tr>\n",
       "    <tr>\n",
       "      <th>min</th>\n",
       "      <td>0.000000</td>\n",
       "      <td>1.000000</td>\n",
       "      <td>0.000000</td>\n",
       "      <td>0.000000</td>\n",
       "    </tr>\n",
       "    <tr>\n",
       "      <th>25%</th>\n",
       "      <td>7499.500000</td>\n",
       "      <td>1.000000</td>\n",
       "      <td>10.000000</td>\n",
       "      <td>0.000000</td>\n",
       "    </tr>\n",
       "    <tr>\n",
       "      <th>50%</th>\n",
       "      <td>14999.000000</td>\n",
       "      <td>2.000000</td>\n",
       "      <td>17.000000</td>\n",
       "      <td>0.000000</td>\n",
       "    </tr>\n",
       "    <tr>\n",
       "      <th>75%</th>\n",
       "      <td>22498.500000</td>\n",
       "      <td>3.000000</td>\n",
       "      <td>29.000000</td>\n",
       "      <td>1.000000</td>\n",
       "    </tr>\n",
       "    <tr>\n",
       "      <th>max</th>\n",
       "      <td>29998.000000</td>\n",
       "      <td>5.000000</td>\n",
       "      <td>1506.000000</td>\n",
       "      <td>1.000000</td>\n",
       "    </tr>\n",
       "  </tbody>\n",
       "</table>\n",
       "</div>"
      ],
      "text/plain": [
       "           train_id  item_condition_id         price      shipping\n",
       "count  29999.000000       29999.000000  29999.000000  29999.000000\n",
       "mean   14999.000000           1.906164     26.953582      0.447715\n",
       "std     8660.109699           0.906798     40.394998      0.497267\n",
       "min        0.000000           1.000000      0.000000      0.000000\n",
       "25%     7499.500000           1.000000     10.000000      0.000000\n",
       "50%    14999.000000           2.000000     17.000000      0.000000\n",
       "75%    22498.500000           3.000000     29.000000      1.000000\n",
       "max    29998.000000           5.000000   1506.000000      1.000000"
      ]
     },
     "execution_count": 7,
     "metadata": {},
     "output_type": "execute_result"
    }
   ],
   "source": [
    "train.describe()"
   ]
  },
  {
   "cell_type": "code",
   "execution_count": 8,
   "metadata": {},
   "outputs": [
    {
     "data": {
      "text/plain": [
       "['train_id',\n",
       " 'name',\n",
       " 'item_condition_id',\n",
       " 'category_name',\n",
       " 'brand_name',\n",
       " 'price',\n",
       " 'shipping',\n",
       " 'item_description']"
      ]
     },
     "execution_count": 8,
     "metadata": {},
     "output_type": "execute_result"
    }
   ],
   "source": [
    "train_col = list(train)\n",
    "train_col"
   ]
  },
  {
   "cell_type": "code",
   "execution_count": 9,
   "metadata": {},
   "outputs": [
    {
     "data": {
      "text/plain": [
       "['test_id',\n",
       " 'name',\n",
       " 'item_condition_id',\n",
       " 'category_name',\n",
       " 'brand_name',\n",
       " 'shipping',\n",
       " 'item_description']"
      ]
     },
     "execution_count": 9,
     "metadata": {},
     "output_type": "execute_result"
    }
   ],
   "source": [
    "test_col = list(test)\n",
    "test_col"
   ]
  },
  {
   "cell_type": "code",
   "execution_count": 10,
   "metadata": {},
   "outputs": [],
   "source": [
    "train_col[0] = 'id'\n",
    "test_col[0] = 'id'"
   ]
  },
  {
   "cell_type": "code",
   "execution_count": 11,
   "metadata": {},
   "outputs": [],
   "source": [
    "train.columns = train_col\n",
    "test.columns = test_col"
   ]
  },
  {
   "cell_type": "code",
   "execution_count": 12,
   "metadata": {},
   "outputs": [
    {
     "data": {
      "text/plain": [
       "Index(['price'], dtype='object')"
      ]
     },
     "execution_count": 12,
     "metadata": {},
     "output_type": "execute_result"
    }
   ],
   "source": [
    "train.columns.difference(test.columns)"
   ]
  },
  {
   "cell_type": "code",
   "execution_count": 13,
   "metadata": {},
   "outputs": [],
   "source": [
    "import gc\n",
    "import time\n",
    "import pandas as pd\n",
    "import numpy as np"
   ]
  },
  {
   "cell_type": "code",
   "execution_count": 14,
   "metadata": {},
   "outputs": [],
   "source": [
    "from scipy.sparse import csr_matrix, hstack"
   ]
  },
  {
   "cell_type": "code",
   "execution_count": 15,
   "metadata": {},
   "outputs": [],
   "source": [
    "from sklearn.linear_model import Ridge\n",
    "from sklearn.feature_extraction.text import CountVectorizer, TfidfVectorizer\n",
    "from sklearn.preprocessing import LabelBinarizer\n",
    "from sklearn.model_selection import train_test_split, cross_val_score"
   ]
  },
  {
   "cell_type": "code",
   "execution_count": 16,
   "metadata": {},
   "outputs": [],
   "source": [
    "import lightgbm as lgb"
   ]
  },
  {
   "cell_type": "code",
   "execution_count": 17,
   "metadata": {},
   "outputs": [],
   "source": [
    "NUM_BRANDS = 4000\n",
    "NUM_CATEGORIES = 1000\n",
    "NAME_MIN_DF = 10\n",
    "MAX_FEATURES_ITEM_DESCRIPTION = 50000"
   ]
  },
  {
   "cell_type": "code",
   "execution_count": 18,
   "metadata": {},
   "outputs": [
    {
     "name": "stdout",
     "output_type": "stream",
     "text": [
      "Object `prices` not found.\n",
      "Object `are` not found.\n",
      "Object `conditions` not found.\n",
      "Object `brands` not found.\n",
      "Object `prices` not found.\n",
      "Object `categories` not found.\n",
      "Object `categories` not found.\n"
     ]
    }
   ],
   "source": [
    "\n",
    "\n",
    "What is the variation between prices?\n",
    "How good the products are?\n",
    "How’s the shipping conditions?\n",
    "What are the premium brands?\n",
    "Dose premium brands sold at higher prices?\n",
    "How many categories?\n",
    "Does prices very between categories?\n"
   ]
  },
  {
   "cell_type": "code",
   "execution_count": 19,
   "metadata": {},
   "outputs": [
    {
     "ename": "SyntaxError",
     "evalue": "invalid syntax (<ipython-input-19-bf0828af4642>, line 1)",
     "output_type": "error",
     "traceback": [
      "\u001b[0;36m  File \u001b[0;32m\"<ipython-input-19-bf0828af4642>\"\u001b[0;36m, line \u001b[0;32m1\u001b[0m\n\u001b[0;31m    Does prices very between categories\u001b[0m\n\u001b[0m              ^\u001b[0m\n\u001b[0;31mSyntaxError\u001b[0m\u001b[0;31m:\u001b[0m invalid syntax\n"
     ]
    }
   ],
   "source": [
    "Does prices very between categories"
   ]
  },
  {
   "cell_type": "markdown",
   "metadata": {},
   "source": [
    "#### Transform missing data in categotical columns"
   ]
  },
  {
   "cell_type": "code",
   "execution_count": 20,
   "metadata": {},
   "outputs": [],
   "source": [
    "def handle_missing_inplace(dataset):\n",
    "    dataset['category_name'].fillna(value='missing', inplace=True)\n",
    "    dataset['brand_name'].fillna(value='missing', inplace=True)\n",
    "    dataset['item_description'].fillna(value='missing', inplace=True)"
   ]
  },
  {
   "cell_type": "markdown",
   "metadata": {},
   "source": [
    "#### Trimming dataset"
   ]
  },
  {
   "cell_type": "code",
   "execution_count": 21,
   "metadata": {},
   "outputs": [],
   "source": [
    "def cutting(dataset):\n",
    "    pop_brand = dataset['brand_name'].value_counts().loc[lambda x: x.index != 'missing'].index[:NUM_BRANDS]\n",
    "    dataset.loc[~dataset['brand_name'].isin(pop_brand), 'brand_name'] = 'missing'\n",
    "    pop_category = dataset['category_name'].value_counts().loc[lambda x: x.index != 'missing'].index[:NUM_BRANDS]\n",
    " "
   ]
  },
  {
   "cell_type": "code",
   "execution_count": 22,
   "metadata": {},
   "outputs": [],
   "source": [
    "def to_categorical(dataset):\n",
    "    dataset['category_name'] = dataset['category_name'].astype('category')\n",
    "    dataset['brand_name'] = dataset['brand_name'].astype('category')\n",
    "    dataset['item_condition_id'] = dataset['item_condition_id'].astype('category')\n"
   ]
  },
  {
   "cell_type": "markdown",
   "metadata": {},
   "source": [
    "#### Model takes result based on 40/60 from LightGBM and Ridge models respectively "
   ]
  },
  {
   "cell_type": "code",
   "execution_count": 28,
   "metadata": {},
   "outputs": [],
   "source": [
    "\n",
    "\n",
    "def mixed_modle():\n",
    "    start_time = time.time()\n",
    "    \n",
    "    train = pd.read_table('../M_Project/train.tsv', engine='c')\n",
    "    test = pd.read_table('../M_Project/test.tsv', engine='c')\n",
    "    print('[{}] Finished to load data'.format(time.time() - start_time))\n",
    "    print('Train shape: ', train.shape)\n",
    "    print('Test shape: ', test.shape)\n",
    "\n",
    "    nrow_train = train.shape[0]\n",
    "    y = np.log1p(train[\"price\"])\n",
    "    merge: pd.DataFrame = pd.concat([train, test])\n",
    "    submission: pd.DataFrame = test[['test_id']]\n",
    "        \n",
    "    del train\n",
    "    del test\n",
    "    gc.collect()\n",
    "    \n",
    "    # Feature extraction\n",
    "    handle_missing_inplace(merge)\n",
    "    print('[{}] Finished handling missing data'.format(time.time() - start_time))\n",
    "    \n",
    "    cutting(merge)\n",
    "    print('[{}] Finished cutting data'.format(time.time() - start_time))\n",
    "    \n",
    "    to_categorical(merge)\n",
    "    print('[{}] Finished converting data'.format(time.time() - start_time))\n",
    "\n",
    "    cv = CountVectorizer(min_df=NAME_MIN_DF)\n",
    "    X_name = cv.fit_transform(merge['name'])\n",
    "    print('[{}] Finished counting vectorizer name'.format(time.time() - start_time))\n",
    "\n",
    "    cv = CountVectorizer()\n",
    "    X_category = cv.fit_transform(merge['category_name'])\n",
    "    print('[{}] Finished counting vectorizer category_name'.format(time.time() - start_time))\n",
    "    \n",
    "    tv = TfidfVectorizer(max_features=MAX_FEATURES_ITEM_DESCRIPTION,\n",
    "                         ngram_range=(1, 3),\n",
    "                         stop_words='english')\n",
    "    X_description = tv.fit_transform(merge['item_description'])\n",
    "    print('[{}] Finished TPIDF vectorizing'.format(time.time() - start_time))\n",
    "    \n",
    "    lb = LabelBinarizer(sparse_output=True)\n",
    "    X_brand = lb.fit_transform(merge['brand_name'])\n",
    "    print('[{}] Finished label-binarizing brand_names'.format(time.time() - start_time))\n",
    "    \n",
    "    X_dummies = csr_matrix(pd.get_dummies(merge[['item_condition_id', 'shipping']], sparse=True).values)\n",
    "    print('[{}] Finished getting dummies on item_condition_id and shipping'.format(time.time() - start_time))\n",
    "    \n",
    "    sparse_merge = hstack((X_dummies, X_description, X_brand, X_category, X_name)).tocsr()\n",
    "    print('[{}] Finished creating sparse merge'.format(time.time() - start_time))\n",
    "    \n",
    "    X = sparse_merge[:nrow_train]\n",
    "    X_test = sparse_merge[nrow_train:]\n",
    "    \n",
    "    #X_train, X_test, y_train, y_test = train_test_split(train_set, y_train_val, test_size=0.2, random_state=123)\n",
    "    d_train = lgb.Dataset(X, label=y)\n",
    "    #d_valid = lgb.Dataset(valid_X, label=valid_y)\n",
    "    \n",
    "    params = {\n",
    "        'learning_rate': 0.75,\n",
    "        'application': 'regression',\n",
    "        'max_depth': 3,\n",
    "        'num_leaves': 100,\n",
    "        'verbosity': -1,\n",
    "        'metric': 'RMSE',\n",
    "    }\n",
    "    \n",
    "    \n",
    "    model = lgb.train(params, train_set=d_train, num_boost_round=3200, verbose_eval=100) \n",
    "    print('[{}] Finished training LightGBM'.format(time.time() - start_time))\n",
    "    preds = 0.6 * model.predict(X_test)\n",
    "    print('[{}] Finished predicting by LightGBM'.format(time.time() - start_time))\n",
    "    model = Ridge(solver=\"sag\", fit_intercept=True, random_state=205)\n",
    "    model.fit(X, y)\n",
    "    print('[{}] Finished training ridge'.format(time.time() - start_time))\n",
    "    preds += 0.4 * model.predict(X=X_test)\n",
    "    print('[{}] Finished predicting by ridge'.format(time.time() - start_time))\n",
    "    \n",
    "    \n",
    "    "
   ]
  },
  {
   "cell_type": "code",
   "execution_count": 29,
   "metadata": {},
   "outputs": [
    {
     "name": "stdout",
     "output_type": "stream",
     "text": [
      "[0.3394200801849365] Finished to load data\n",
      "Train shape:  (29999, 8)\n",
      "Test shape:  (29999, 7)\n",
      "[0.41411614418029785] Finished handling missing data\n",
      "[0.46460700035095215] Finished cutting data\n",
      "[0.48879504203796387] Finished converting data\n",
      "[1.0793750286102295] Finished counting vectorizer name\n",
      "[1.5937409400939941] Finished counting vectorizer category_name\n",
      "[11.58866286277771] Finished TPIDF vectorizing\n",
      "[13.750045776367188] Finished label-binarizing brand_names\n",
      "[14.00936222076416] Finished getting dummies on item_condition_id and shipping\n",
      "[14.17724895477295] Finished creating sparse merge\n",
      "[60.461758852005005] Finished training LightGBM\n",
      "[66.60012888908386] Finished predicting by LightGBM\n",
      "[69.83184885978699] Finished training ridge\n",
      "[69.83708786964417] Finished predicting by ridge\n"
     ]
    }
   ],
   "source": [
    "mixed_modle()"
   ]
  },
  {
   "cell_type": "code",
   "execution_count": null,
   "metadata": {},
   "outputs": [],
   "source": [
    "def ridge_modle():\n",
    "    start_time = time.time()\n",
    "    \n",
    "    train = pd.read_table('train.tsv', engine='c')\n",
    "    test = pd.read_table('test.tsv', engine='c')\n",
    "    print('[{}] Finished to load data'.format(time.time() - start_time))\n",
    "    print('Train shape: ', train.shape)\n",
    "    print('Test shape: ', test.shape)\n",
    "\n",
    "    nrow_train = train.shape[0]\n",
    "    y = np.log1p(train[\"price\"])\n",
    "    merge: pd.DataFrame = pd.concat([train, test])\n",
    "    submission: pd.DataFrame = test[['test_id']]\n",
    "        \n",
    "    del train\n",
    "    del test\n",
    "    gc.collect()\n",
    "    \n",
    "    # Feature extraction\n",
    "    handle_missing_inplace(merge)\n",
    "    print('[{}] Finished handling missing data'.format(time.time() - start_time))\n",
    "    \n",
    "    cutting(merge)\n",
    "    print('[{}] Finished cutting data'.format(time.time() - start_time))\n",
    "    \n",
    "    to_categorical(merge)\n",
    "    print('[{}] Finished converting data'.format(time.time() - start_time))\n",
    "\n",
    "    cv = CountVectorizer(min_df=NAME_MIN_DF)\n",
    "    \n",
    "    \n",
    "    X_name = cv.fit_transform(merge['name'])\n",
    "    print('[{}] Finished counting vectorizer name'.format(time.time() - start_time))\n",
    "\n",
    "    cv = CountVectorizer()\n",
    "    X_category = cv.fit_transform(merge['category_name'])\n",
    "    print('[{}] Finished counting vectorizer category_name'.format(time.time() - start_time))\n",
    "    \n",
    "    tv = TfidfVectorizer(max_features=MAX_FEATURES_ITEM_DESCRIPTION,\n",
    "                         ngram_range=(1, 3),\n",
    "                         stop_words='english')\n",
    "    X_description = tv.fit_transform(merge['item_description'])\n",
    "    print('[{}] Finished TPIDF vectorizing'.format(time.time() - start_time))\n",
    "    \n",
    "    lb = LabelBinarizer(sparse_output=True)\n",
    "    X_brand = lb.fit_transform(merge['brand_name'])\n",
    "    print('[{}] Finished label-binarizing brand_names'.format(time.time() - start_time))\n",
    "    \n",
    "    # Convert categorical variables into dummy variables\n",
    "    X_dummies = csr_matrix(pd.get_dummies(merge[['item_condition_id', 'shipping']], sparse=True).values)\n",
    "    print('[{}] Finished getting dummies on item_condition_id and shipping'.format(time.time() - start_time))\n",
    "    \n",
    "    #\n",
    "    sparse_merge = hstack((X_dummies, X_description, X_brand, X_category, X_name)).tocsr()\n",
    "    print('[{}] Finished creating sparse merge'.format(time.time() - start_time))\n",
    "    \n",
    "    X = sparse_merge[:nrow_train]\n",
    "    X_test = sparse_merge[nrow_train:]\n",
    "    \n",
    "    #X_train, X_test, y_train, y_test = train_test_split(train_set, y_train_val, test_size=0.2, random_state=123)\n",
    "    d_train = lgb.Dataset(X, label=y)\n",
    "    #d_valid = lgb.Dataset(valid_X, label=valid_y)\n",
    "    \n",
    "    params = {\n",
    "        'learning_rate': 0.75,\n",
    "        'application': 'regression',\n",
    "        'max_depth': 3,\n",
    "        'num_leaves': 100,\n",
    "        'verbosity': -1,\n",
    "        'metric': 'RMSE',\n",
    "    }\n",
    "    \n",
    "    \n",
    "    model = Ridge(solver=\"sag\", fit_intercept=True, random_state=205)\n",
    "    model.fit(X, y)\n",
    "    print('[{}] Finished to train ridge'.format(time.time() - start_time))\n",
    "    preds = model.predict(X=X_test)\n",
    "    print('[{}] Finished to predict ridge'.format(time.time() - start_time))\n",
    "    \n",
    "    "
   ]
  },
  {
   "cell_type": "code",
   "execution_count": null,
   "metadata": {},
   "outputs": [],
   "source": []
  },
  {
   "cell_type": "code",
   "execution_count": 214,
   "metadata": {
    "scrolled": true
   },
   "outputs": [],
   "source": [
    "#if __name__ == '__main__':\n",
    "#    main()"
   ]
  }
 ],
 "metadata": {
  "kernelspec": {
   "display_name": "Python 3",
   "language": "python",
   "name": "python3"
  },
  "language_info": {
   "codemirror_mode": {
    "name": "ipython",
    "version": 3
   },
   "file_extension": ".py",
   "mimetype": "text/x-python",
   "name": "python",
   "nbconvert_exporter": "python",
   "pygments_lexer": "ipython3",
   "version": "3.6.2"
  }
 },
 "nbformat": 4,
 "nbformat_minor": 1
}
